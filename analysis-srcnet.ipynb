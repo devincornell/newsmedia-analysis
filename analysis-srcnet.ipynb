{
 "cells": [
  {
   "cell_type": "code",
   "execution_count": 2,
   "metadata": {
    "collapsed": true
   },
   "outputs": [],
   "source": [
    "import networkx as nx\n",
    "import gensim.models\n",
    "from os import walk\n",
    "import numpy as np\n",
    "import pandas as pd\n",
    "import pickle\n",
    "import sys\n",
    "import re\n",
    "import semanticanalysis as sa\n",
    "import functools\n",
    "import itertools\n",
    "from multiprocessing import Pool\n",
    "import sys\n",
    "import pickle"
   ]
  },
  {
   "cell_type": "markdown",
   "metadata": {},
   "source": [
    "## Single Network"
   ]
  },
  {
   "cell_type": "code",
   "execution_count": 34,
   "metadata": {},
   "outputs": [
    {
     "name": "stdout",
     "output_type": "stream",
     "text": [
      "\\begin{tabular}{ l | c c c c c c c c c c }\n",
      "\\hline\n",
      "sources & breitbart & cbsnews & cnn & foxnews & huffpo & nytimes & reuters & usatoday & wapo & watimes \\\\\n",
      "\\hline\n",
      "breitbart & - & - & - & - & - & - & - & - & - & - \\\\\n",
      "cbsnews & 0.505 & - & - & - & - & - & - & - & - & - \\\\\n",
      "cnn & 0.597 & 0.506 & - & - & - & - & - & - & - & - \\\\\n",
      "foxnews & 0.612 & 0.597 & 0.730 & - & - & - & - & - & - & - \\\\\n",
      "huffpo & 0.400 & 0.332 & 0.542 & 0.500 & - & - & - & - & - & - \\\\\n",
      "nytimes & 0.494 & 0.409 & 0.652 & 0.608 & 0.665 & - & - & - & - & - \\\\\n",
      "reuters & 0.426 & 0.346 & 0.551 & 0.510 & 0.540 & 0.603 & - & - & - & - \\\\\n",
      "usatoday & 0.399 & 0.544 & 0.359 & 0.416 & 0.291 & 0.332 & 0.278 & - & - & - \\\\\n",
      "wapo & 0.481 & 0.380 & 0.639 & 0.572 & 0.672 & 0.731 & 0.597 & 0.303 & - & - \\\\\n",
      "watimes & 0.506 & 0.417 & 0.641 & 0.610 & 0.629 & 0.711 & 0.579 & 0.364 & 0.723 & - \\\\\n",
      "\\end{tabular}\n"
     ]
    }
   ],
   "source": [
    "L = 5\n",
    "G = nx.read_gexf('results/srcnets/trump-999.gexf')\n",
    "nodes = list(sorted(G.nodes()))\n",
    "print('\\\\begin{tabular}{ l |', ' '.join(['c',]*len(G.nodes())), '}')\n",
    "print('\\\\hline')\n",
    "print('sources &', ' & '.join([v.split('_')[0] for v in nodes]), '\\\\\\\\')\n",
    "print('\\\\hline')\n",
    "for u in nodes:\n",
    "    srcname = u.split('_')[0]\n",
    "    weights = [(v, G.edge[u][v]['weight']) for v in nodes]\n",
    "    wstrings = ['{0:.3f}'.format(w) if v < u else '-' for v,w in weights]\n",
    "    print(srcname, '&', ' & '.join(wstrings), '\\\\\\\\')\n",
    "    \n",
    "print('\\\\end{tabular}')"
   ]
  },
  {
   "cell_type": "markdown",
   "metadata": {},
   "source": [
    "## Network Comparison"
   ]
  },
  {
   "cell_type": "code",
   "execution_count": 36,
   "metadata": {},
   "outputs": [
    {
     "name": "stdout",
     "output_type": "stream",
     "text": [
      "\\begin{tabular}{ l | c c c c c c c c c c }\n",
      "\\hline\n",
      "sources & breitbart & cbsnews & cnn & foxnews & huffpo & nytimes & reuters & usatoday & wapo & watimes} \\\\\n",
      "\\hline\n",
      "breitbart & - & - & - & - & - & - & - & - & - & - \\\\\n",
      "cbsnews & -0.026 & - & - & - & - & - & - & - & - & - \\\\\n",
      "cnn & -0.010 & -0.114 & - & - & - & - & - & - & - & - \\\\\n",
      "foxnews & -0.129 & -0.118 & -0.092 & - & - & - & - & - & - & - \\\\\n",
      "huffpo & 0.040 & -0.061 & 0.099 & 0.051 & - & - & - & - & - & - \\\\\n",
      "nytimes & -0.143 & -0.175 & -0.081 & -0.094 & 0.013 & - & - & - & - & - \\\\\n",
      "reuters & -0.062 & -0.149 & -0.112 & -0.154 & -0.086 & -0.144 & - & - & - & - \\\\\n",
      "usatoday & -0.007 & 0.152 & -0.037 & -0.080 & -0.115 & -0.174 & -0.135 & - & - & - \\\\\n",
      "wapo & -0.082 & -0.130 & -0.022 & -0.063 & 0.033 & -0.046 & -0.112 & -0.142 & - & - \\\\\n",
      "watimes & 0.030 & -0.059 & 0.032 & -0.015 & 0.034 & -0.096 & -0.064 & -0.122 & -0.051 & - \\\\\n",
      "\\end{tabular}\n"
     ]
    }
   ],
   "source": [
    "L = 5\n",
    "G = nx.read_gexf('results/srcnets/military-800.gexf')\n",
    "H = nx.read_gexf('results/srcnets/trump-800.gexf')\n",
    "nodes = list(sorted(G.nodes()))\n",
    "print('\\\\begin{tabular}{ l |', ' '.join(['c',]*len(G.nodes())), '}')\n",
    "print('\\\\hline')\n",
    "print('sources &', ' & '.join([v.split('_')[0] for v in nodes])+'}', '\\\\\\\\')\n",
    "print('\\\\hline')\n",
    "for u in nodes:\n",
    "    srcname = u.split('_')[0]\n",
    "    weights = [(v, G.edge[u][v]['weight']-H.edge[u][v]['weight']) for v in nodes]\n",
    "    wstrings = ['{0:.3f}'.format(w) if v < u else '-' for v,w in weights]\n",
    "    print(srcname, '&', ' & '.join(wstrings), '\\\\\\\\')\n",
    "    \n",
    "print('\\\\end{tabular}')"
   ]
  }
 ],
 "metadata": {
  "kernelspec": {
   "display_name": "Python [conda root]",
   "language": "python",
   "name": "conda-root-py"
  },
  "language_info": {
   "codemirror_mode": {
    "name": "ipython",
    "version": 3
   },
   "file_extension": ".py",
   "mimetype": "text/x-python",
   "name": "python",
   "nbconvert_exporter": "python",
   "pygments_lexer": "ipython3",
   "version": "3.5.3"
  }
 },
 "nbformat": 4,
 "nbformat_minor": 2
}
