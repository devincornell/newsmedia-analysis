{
 "cells": [
  {
   "cell_type": "code",
   "execution_count": 1,
   "metadata": {
    "collapsed": true
   },
   "outputs": [],
   "source": [
    "import networkx as nx\n",
    "import numpy as np"
   ]
  },
  {
   "cell_type": "code",
   "execution_count": 2,
   "metadata": {
    "collapsed": true
   },
   "outputs": [],
   "source": [
    "G = nx.read_gexf('results/cnn_sparse.gexf')"
   ]
  },
  {
   "cell_type": "code",
   "execution_count": 19,
   "metadata": {},
   "outputs": [
    {
     "data": {
      "text/plain": [
       "['march', 'turkish', 'laws']"
      ]
     },
     "execution_count": 19,
     "metadata": {},
     "output_type": "execute_result"
    }
   ],
   "source": [
    "n = len(G.nodes())\n",
    "G.nodes()[:3]"
   ]
  },
  {
   "cell_type": "code",
   "execution_count": 13,
   "metadata": {},
   "outputs": [
    {
     "data": {
      "text/plain": [
       "{'id': '358030', 'l2_dist': 1.306795358657837, 'weight': 0.5855781096437082}"
      ]
     },
     "execution_count": 13,
     "metadata": {},
     "output_type": "execute_result"
    }
   ],
   "source": [
    "G.edge['trump']['turkish']"
   ]
  },
  {
   "cell_type": "code",
   "execution_count": 8,
   "metadata": {},
   "outputs": [],
   "source": [
    "tind = G.nodes().index('trump')"
   ]
  },
  {
   "cell_type": "code",
   "execution_count": 24,
   "metadata": {},
   "outputs": [],
   "source": [
    "d = 0.99 # dampening factor\n",
    "nwalks = 15 # number of iterations\n",
    "R0 = np.zeros((len(G.nodes()),1))\n",
    "R0[tind] = 1"
   ]
  },
  {
   "cell_type": "code",
   "execution_count": 15,
   "metadata": {
    "collapsed": true
   },
   "outputs": [],
   "source": [
    "# get and normalize Adjacency matrix\n",
    "A = nx.adjacency_matrix(G, weight='weight')"
   ]
  },
  {
   "cell_type": "code",
   "execution_count": 25,
   "metadata": {},
   "outputs": [
    {
     "data": {
      "text/plain": [
       "matrix([[ 1.,  1.,  1., ...,  1.,  1.,  1.]])"
      ]
     },
     "execution_count": 25,
     "metadata": {},
     "output_type": "execute_result"
    }
   ],
   "source": [
    "l = A/np.tile(A.sum(axis=0),(n,1))\n",
    "l.sum(axis=0)"
   ]
  },
  {
   "cell_type": "code",
   "execution_count": 29,
   "metadata": {},
   "outputs": [],
   "source": [
    "R = R0\n",
    "for i in range(nwalks):\n",
    "    R = (1-d)*R0 + d*np.dot(l,R)"
   ]
  },
  {
   "cell_type": "code",
   "execution_count": 37,
   "metadata": {
    "collapsed": true
   },
   "outputs": [],
   "source": [
    "closenodes = [id for id,val in sorted(enumerate(list(R)),key=lambda x: x[1], reverse=True)]"
   ]
  },
  {
   "cell_type": "code",
   "execution_count": 41,
   "metadata": {},
   "outputs": [
    {
     "data": {
      "text/plain": [
       "['trump',\n",
       " 'wall',\n",
       " 'street',\n",
       " 'last',\n",
       " 'security',\n",
       " 'two',\n",
       " 'central',\n",
       " 'united',\n",
       " 'said',\n",
       " 'states',\n",
       " 'years',\n",
       " 'state',\n",
       " 'group',\n",
       " 'year',\n",
       " 'nations',\n",
       " 'week',\n",
       " 'month',\n",
       " 'told',\n",
       " 'prime',\n",
       " 'korea',\n",
       " 'new',\n",
       " 'dakota',\n",
       " 'including',\n",
       " 'white',\n",
       " 'islamic',\n",
       " 'minister',\n",
       " 'bank',\n",
       " 'south',\n",
       " 'rights',\n",
       " 'report',\n",
       " 'national',\n",
       " 'service',\n",
       " 'us',\n",
       " 'european',\n",
       " 'federal',\n",
       " 'china',\n",
       " 'kingdom',\n",
       " 'foreign',\n",
       " 'house',\n",
       " 'north',\n",
       " 'according',\n",
       " 'reports',\n",
       " 'human',\n",
       " 'earlier',\n",
       " 'york',\n",
       " 'court',\n",
       " 'energy',\n",
       " 'reporting',\n",
       " 'carolina',\n",
       " 'oil',\n",
       " 'services',\n",
       " 'following',\n",
       " 'additional',\n",
       " 'investigation',\n",
       " 'government',\n",
       " 'foundation',\n",
       " 'people',\n",
       " 'local',\n",
       " 'third',\n",
       " 'may',\n",
       " 'times',\n",
       " 'law',\n",
       " 'department',\n",
       " 'used',\n",
       " 'london',\n",
       " 'international',\n",
       " 'recent',\n",
       " 'information',\n",
       " '2015',\n",
       " 'risk',\n",
       " 'agency',\n",
       " 'one',\n",
       " 'pipeline',\n",
       " 'world',\n",
       " 'media',\n",
       " 'study',\n",
       " 'president',\n",
       " 'women',\n",
       " 'first',\n",
       " 'writing',\n",
       " 'november',\n",
       " 'comment',\n",
       " 'declined',\n",
       " 'percent',\n",
       " 'poll',\n",
       " 'december',\n",
       " '2014',\n",
       " 'university',\n",
       " 'found',\n",
       " 'billion',\n",
       " '2016',\n",
       " 'currency',\n",
       " 'middle',\n",
       " 'financial',\n",
       " 'million',\n",
       " 'available',\n",
       " 'three',\n",
       " 'climate',\n",
       " 'secretary',\n",
       " 'months']"
      ]
     },
     "execution_count": 41,
     "metadata": {},
     "output_type": "execute_result"
    }
   ],
   "source": [
    "N = G.nodes()\n",
    "[N[i] for i in closenodes[:100]]"
   ]
  }
 ],
 "metadata": {
  "kernelspec": {
   "display_name": "Python [conda root]",
   "language": "python",
   "name": "conda-root-py"
  },
  "language_info": {
   "codemirror_mode": {
    "name": "ipython",
    "version": 3
   },
   "file_extension": ".py",
   "mimetype": "text/x-python",
   "name": "python",
   "nbconvert_exporter": "python",
   "pygments_lexer": "ipython3",
   "version": "3.5.3"
  }
 },
 "nbformat": 4,
 "nbformat_minor": 2
}
